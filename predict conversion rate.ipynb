{
 "cells": [
  {
   "cell_type": "markdown",
   "id": "5775163c",
   "metadata": {},
   "source": [
    "### Import Libraries "
   ]
  },
  {
   "cell_type": "code",
   "execution_count": 1,
   "id": "126df1a5",
   "metadata": {},
   "outputs": [],
   "source": [
    "import pandas as pd\n",
    "import numpy as np\n",
    "%matplotlib inline\n",
    "import matplotlib.pyplot as plt  # Matlab-style plotting\n",
    "import seaborn as sns\n",
    "import scipy.stats\n",
    "from sklearn.feature_selection import SequentialFeatureSelector\n",
    "from sklearn.model_selection import TimeSeriesSplit\n",
    "from xgboost import XGBRegressor, plot_importance \n",
    "from sklearn.model_selection import RandomizedSearchCV\n",
    "from sklearn.model_selection import StratifiedKFold\n",
    "from sklearn.metrics import mean_squared_error,mean_absolute_error\n",
    "from sklearn.metrics import r2_score\n",
    "from sklearn.model_selection import GridSearchCV, cross_val_score\n",
    "from sklearn.linear_model import LinearRegression\n",
    "from sklearn.linear_model import Ridge\n",
    "from skforecast.ForecasterAutoreg import ForecasterAutoreg\n",
    "from sklearn.preprocessing import StandardScaler\n",
    "from scipy.stats import multivariate_normal as mn\n"
   ]
  },
  {
   "cell_type": "markdown",
   "id": "7b66dc61",
   "metadata": {},
   "source": [
    "### Data Ingestion"
   ]
  },
  {
   "cell_type": "code",
   "execution_count": 2,
   "id": "bcd4fa2b",
   "metadata": {},
   "outputs": [],
   "source": [
    "metrics = pd.read_csv('metrics.csv')\n",
    "hotels = pd.read_csv('hotels.csv')"
   ]
  },
  {
   "cell_type": "code",
   "execution_count": null,
   "id": "ccf47ee7",
   "metadata": {},
   "outputs": [],
   "source": [
    "#def import_data():\n",
    "    #metrics = pd.read_csv('./metrics.csv')\n",
    "    #hotels = pd.read_csv('./hotels.csv')\n",
    "    #print('metrics dataset:', metrics.head(), 'hotels dataset:', hotels.head(), sep='\\n')\n",
    "    #return metrics, hotels"
   ]
  },
  {
   "cell_type": "code",
   "execution_count": 3,
   "id": "828a215e",
   "metadata": {},
   "outputs": [
    {
     "data": {
      "text/html": [
       "<div>\n",
       "<style scoped>\n",
       "    .dataframe tbody tr th:only-of-type {\n",
       "        vertical-align: middle;\n",
       "    }\n",
       "\n",
       "    .dataframe tbody tr th {\n",
       "        vertical-align: top;\n",
       "    }\n",
       "\n",
       "    .dataframe thead th {\n",
       "        text-align: right;\n",
       "    }\n",
       "</style>\n",
       "<table border=\"1\" class=\"dataframe\">\n",
       "  <thead>\n",
       "    <tr style=\"text-align: right;\">\n",
       "      <th></th>\n",
       "      <th>ymd</th>\n",
       "      <th>hotel_id</th>\n",
       "      <th>advertiser_id</th>\n",
       "      <th>n_clickouts</th>\n",
       "      <th>n_bookings</th>\n",
       "    </tr>\n",
       "  </thead>\n",
       "  <tbody>\n",
       "    <tr>\n",
       "      <th>0</th>\n",
       "      <td>20230801</td>\n",
       "      <td>1</td>\n",
       "      <td>1</td>\n",
       "      <td>5</td>\n",
       "      <td>0</td>\n",
       "    </tr>\n",
       "    <tr>\n",
       "      <th>1</th>\n",
       "      <td>20230801</td>\n",
       "      <td>1</td>\n",
       "      <td>5</td>\n",
       "      <td>159</td>\n",
       "      <td>5</td>\n",
       "    </tr>\n",
       "    <tr>\n",
       "      <th>2</th>\n",
       "      <td>20230801</td>\n",
       "      <td>1</td>\n",
       "      <td>14</td>\n",
       "      <td>1</td>\n",
       "      <td>0</td>\n",
       "    </tr>\n",
       "    <tr>\n",
       "      <th>3</th>\n",
       "      <td>20230801</td>\n",
       "      <td>1</td>\n",
       "      <td>37</td>\n",
       "      <td>2</td>\n",
       "      <td>0</td>\n",
       "    </tr>\n",
       "    <tr>\n",
       "      <th>4</th>\n",
       "      <td>20230801</td>\n",
       "      <td>1</td>\n",
       "      <td>39</td>\n",
       "      <td>1</td>\n",
       "      <td>0</td>\n",
       "    </tr>\n",
       "  </tbody>\n",
       "</table>\n",
       "</div>"
      ],
      "text/plain": [
       "        ymd  hotel_id  advertiser_id  n_clickouts  n_bookings\n",
       "0  20230801         1              1            5           0\n",
       "1  20230801         1              5          159           5\n",
       "2  20230801         1             14            1           0\n",
       "3  20230801         1             37            2           0\n",
       "4  20230801         1             39            1           0"
      ]
     },
     "execution_count": 3,
     "metadata": {},
     "output_type": "execute_result"
    }
   ],
   "source": [
    "metrics.head()"
   ]
  },
  {
   "cell_type": "code",
   "execution_count": null,
   "id": "e61179c2",
   "metadata": {},
   "outputs": [],
   "source": [
    "#metrics.set_index('ymd', inplace = True)"
   ]
  },
  {
   "cell_type": "markdown",
   "id": "9161ff16",
   "metadata": {},
   "source": [
    "### Data Exploration"
   ]
  },
  {
   "cell_type": "code",
   "execution_count": 4,
   "id": "0db81640",
   "metadata": {},
   "outputs": [
    {
     "data": {
      "text/plain": [
       "5     1954\n",
       "39    1574\n",
       "37    1319\n",
       "24    1194\n",
       "1      627\n",
       "Name: advertiser_id, dtype: int64"
      ]
     },
     "execution_count": 4,
     "metadata": {},
     "output_type": "execute_result"
    }
   ],
   "source": [
    "metrics['advertiser_id'].value_counts().head()"
   ]
  },
  {
   "cell_type": "code",
   "execution_count": 5,
   "id": "fb905f71",
   "metadata": {},
   "outputs": [
    {
     "data": {
      "text/plain": [
       "ymd              0\n",
       "hotel_id         0\n",
       "advertiser_id    0\n",
       "n_clickouts      0\n",
       "n_bookings       0\n",
       "dtype: int64"
      ]
     },
     "execution_count": 5,
     "metadata": {},
     "output_type": "execute_result"
    }
   ],
   "source": [
    "metrics.isnull().sum()"
   ]
  },
  {
   "cell_type": "code",
   "execution_count": 6,
   "id": "b29e70ee",
   "metadata": {},
   "outputs": [
    {
     "data": {
      "text/html": [
       "<div>\n",
       "<style scoped>\n",
       "    .dataframe tbody tr th:only-of-type {\n",
       "        vertical-align: middle;\n",
       "    }\n",
       "\n",
       "    .dataframe tbody tr th {\n",
       "        vertical-align: top;\n",
       "    }\n",
       "\n",
       "    .dataframe thead th {\n",
       "        text-align: right;\n",
       "    }\n",
       "</style>\n",
       "<table border=\"1\" class=\"dataframe\">\n",
       "  <thead>\n",
       "    <tr style=\"text-align: right;\">\n",
       "      <th></th>\n",
       "      <th>hotel_id</th>\n",
       "      <th>stars</th>\n",
       "      <th>n_reviews</th>\n",
       "      <th>rating</th>\n",
       "      <th>city_id</th>\n",
       "    </tr>\n",
       "  </thead>\n",
       "  <tbody>\n",
       "    <tr>\n",
       "      <th>0</th>\n",
       "      <td>1</td>\n",
       "      <td>3</td>\n",
       "      <td>3601.0</td>\n",
       "      <td>6.1</td>\n",
       "      <td>36</td>\n",
       "    </tr>\n",
       "    <tr>\n",
       "      <th>1</th>\n",
       "      <td>2</td>\n",
       "      <td>3</td>\n",
       "      <td>1949.0</td>\n",
       "      <td>8.6</td>\n",
       "      <td>36</td>\n",
       "    </tr>\n",
       "    <tr>\n",
       "      <th>2</th>\n",
       "      <td>3</td>\n",
       "      <td>2</td>\n",
       "      <td>899.0</td>\n",
       "      <td>6.8</td>\n",
       "      <td>71</td>\n",
       "    </tr>\n",
       "    <tr>\n",
       "      <th>3</th>\n",
       "      <td>4</td>\n",
       "      <td>3</td>\n",
       "      <td>3057.0</td>\n",
       "      <td>4.1</td>\n",
       "      <td>19</td>\n",
       "    </tr>\n",
       "    <tr>\n",
       "      <th>4</th>\n",
       "      <td>5</td>\n",
       "      <td>3</td>\n",
       "      <td>938.0</td>\n",
       "      <td>6.3</td>\n",
       "      <td>41</td>\n",
       "    </tr>\n",
       "  </tbody>\n",
       "</table>\n",
       "</div>"
      ],
      "text/plain": [
       "   hotel_id  stars  n_reviews  rating  city_id\n",
       "0         1      3     3601.0     6.1       36\n",
       "1         2      3     1949.0     8.6       36\n",
       "2         3      2      899.0     6.8       71\n",
       "3         4      3     3057.0     4.1       19\n",
       "4         5      3      938.0     6.3       41"
      ]
     },
     "execution_count": 6,
     "metadata": {},
     "output_type": "execute_result"
    }
   ],
   "source": [
    "hotels.head()"
   ]
  },
  {
   "cell_type": "code",
   "execution_count": 7,
   "id": "a45dc4d5",
   "metadata": {},
   "outputs": [
    {
     "data": {
      "text/plain": [
       "hotel_id     0\n",
       "stars        0\n",
       "n_reviews    1\n",
       "rating       1\n",
       "city_id      0\n",
       "dtype: int64"
      ]
     },
     "execution_count": 7,
     "metadata": {},
     "output_type": "execute_result"
    }
   ],
   "source": [
    "hotels.isnull().sum()"
   ]
  },
  {
   "cell_type": "code",
   "execution_count": 8,
   "id": "19f5c019",
   "metadata": {},
   "outputs": [],
   "source": [
    "hotels.dropna(inplace = True)"
   ]
  },
  {
   "cell_type": "markdown",
   "id": "36485ca9",
   "metadata": {},
   "source": [
    "### Merge both the metrics and hotel dataset\n",
    "\n",
    "Using just conversion rate on the metrics dataset will be inadequate for model building. Other variables from the hotel dataset should be brought in. "
   ]
  },
  {
   "cell_type": "code",
   "execution_count": 9,
   "id": "26e174fd",
   "metadata": {},
   "outputs": [],
   "source": [
    "df = pd.merge(metrics, hotels, on ='hotel_id', how = 'left')"
   ]
  },
  {
   "cell_type": "code",
   "execution_count": 10,
   "id": "ce26780e",
   "metadata": {},
   "outputs": [],
   "source": [
    "#convert the day variable to data data type\n",
    "\n",
    "df['ymd'] = df['ymd'].apply(lambda x: pd.to_datetime(str(x), format='%Y%m%d'))"
   ]
  },
  {
   "cell_type": "code",
   "execution_count": null,
   "id": "b2435ae1",
   "metadata": {},
   "outputs": [],
   "source": [
    "#df['hotel_id'] = df['hotel_id'].astype('category')\n",
    "#df['city_id'] = df['city_id'].astype('category')\n",
    "#df['advertiser_id'] = df['advertiser_id'].astype('category')\n",
    "#df[['hotel_id','city_id','advertiser_id']] = df[['hotel_id','city_id','advertiser_id']].apply(lambda x: x.astype('category'),axis=0)"
   ]
  },
  {
   "cell_type": "code",
   "execution_count": 11,
   "id": "d73a5d36",
   "metadata": {},
   "outputs": [],
   "source": [
    "## create a day variable from the \"ymd\" column to have more variables for prediction\n",
    "df['day'] = df['ymd'].dt.day"
   ]
  },
  {
   "cell_type": "code",
   "execution_count": null,
   "id": "1165d9ce",
   "metadata": {},
   "outputs": [],
   "source": [
    "#set \"ymd\" variable as index\n",
    "\n",
    "#df.set_index('ymd', inplace = True)"
   ]
  },
  {
   "cell_type": "code",
   "execution_count": 12,
   "id": "74274676",
   "metadata": {},
   "outputs": [],
   "source": [
    "#create a conversion rate variable: n_bookings / n_clickouts\n",
    "\n",
    "df['conv_rate'] = df['n_bookings']/ df['n_clickouts'] *100"
   ]
  },
  {
   "cell_type": "code",
   "execution_count": 13,
   "id": "8c7633c4",
   "metadata": {},
   "outputs": [],
   "source": [
    "df['conv_rate'] = df['conv_rate'].to_numpy()"
   ]
  },
  {
   "cell_type": "code",
   "execution_count": 14,
   "id": "a1d6a96b",
   "metadata": {},
   "outputs": [
    {
     "data": {
      "text/html": [
       "<div>\n",
       "<style scoped>\n",
       "    .dataframe tbody tr th:only-of-type {\n",
       "        vertical-align: middle;\n",
       "    }\n",
       "\n",
       "    .dataframe tbody tr th {\n",
       "        vertical-align: top;\n",
       "    }\n",
       "\n",
       "    .dataframe thead th {\n",
       "        text-align: right;\n",
       "    }\n",
       "</style>\n",
       "<table border=\"1\" class=\"dataframe\">\n",
       "  <thead>\n",
       "    <tr style=\"text-align: right;\">\n",
       "      <th></th>\n",
       "      <th>hotel_id</th>\n",
       "      <th>advertiser_id</th>\n",
       "      <th>n_clickouts</th>\n",
       "      <th>n_bookings</th>\n",
       "      <th>stars</th>\n",
       "      <th>n_reviews</th>\n",
       "      <th>rating</th>\n",
       "      <th>city_id</th>\n",
       "      <th>day</th>\n",
       "      <th>conv_rate</th>\n",
       "    </tr>\n",
       "  </thead>\n",
       "  <tbody>\n",
       "    <tr>\n",
       "      <th>count</th>\n",
       "      <td>10292.000000</td>\n",
       "      <td>10292.000000</td>\n",
       "      <td>10292.000000</td>\n",
       "      <td>10292.000000</td>\n",
       "      <td>10274.000000</td>\n",
       "      <td>10274.000000</td>\n",
       "      <td>10274.000000</td>\n",
       "      <td>10274.000000</td>\n",
       "      <td>10292.000000</td>\n",
       "      <td>10292.000000</td>\n",
       "    </tr>\n",
       "    <tr>\n",
       "      <th>mean</th>\n",
       "      <td>103.311601</td>\n",
       "      <td>21.663136</td>\n",
       "      <td>13.387583</td>\n",
       "      <td>0.334629</td>\n",
       "      <td>3.377068</td>\n",
       "      <td>4111.072026</td>\n",
       "      <td>7.862575</td>\n",
       "      <td>39.175978</td>\n",
       "      <td>5.497085</td>\n",
       "      <td>2.408461</td>\n",
       "    </tr>\n",
       "    <tr>\n",
       "      <th>std</th>\n",
       "      <td>64.945603</td>\n",
       "      <td>14.530521</td>\n",
       "      <td>41.079112</td>\n",
       "      <td>1.247971</td>\n",
       "      <td>1.221949</td>\n",
       "      <td>5044.490257</td>\n",
       "      <td>0.982829</td>\n",
       "      <td>21.138440</td>\n",
       "      <td>2.881235</td>\n",
       "      <td>9.789689</td>\n",
       "    </tr>\n",
       "    <tr>\n",
       "      <th>min</th>\n",
       "      <td>1.000000</td>\n",
       "      <td>1.000000</td>\n",
       "      <td>1.000000</td>\n",
       "      <td>0.000000</td>\n",
       "      <td>0.000000</td>\n",
       "      <td>10.000000</td>\n",
       "      <td>4.100000</td>\n",
       "      <td>1.000000</td>\n",
       "      <td>1.000000</td>\n",
       "      <td>0.000000</td>\n",
       "    </tr>\n",
       "    <tr>\n",
       "      <th>25%</th>\n",
       "      <td>42.000000</td>\n",
       "      <td>5.000000</td>\n",
       "      <td>1.000000</td>\n",
       "      <td>0.000000</td>\n",
       "      <td>3.000000</td>\n",
       "      <td>1072.000000</td>\n",
       "      <td>7.400000</td>\n",
       "      <td>28.000000</td>\n",
       "      <td>3.000000</td>\n",
       "      <td>0.000000</td>\n",
       "    </tr>\n",
       "    <tr>\n",
       "      <th>50%</th>\n",
       "      <td>97.000000</td>\n",
       "      <td>24.000000</td>\n",
       "      <td>3.000000</td>\n",
       "      <td>0.000000</td>\n",
       "      <td>4.000000</td>\n",
       "      <td>2146.000000</td>\n",
       "      <td>8.000000</td>\n",
       "      <td>34.000000</td>\n",
       "      <td>5.000000</td>\n",
       "      <td>0.000000</td>\n",
       "    </tr>\n",
       "    <tr>\n",
       "      <th>75%</th>\n",
       "      <td>160.000000</td>\n",
       "      <td>37.000000</td>\n",
       "      <td>11.000000</td>\n",
       "      <td>0.000000</td>\n",
       "      <td>4.000000</td>\n",
       "      <td>4469.000000</td>\n",
       "      <td>8.500000</td>\n",
       "      <td>51.000000</td>\n",
       "      <td>8.000000</td>\n",
       "      <td>0.000000</td>\n",
       "    </tr>\n",
       "    <tr>\n",
       "      <th>max</th>\n",
       "      <td>224.000000</td>\n",
       "      <td>43.000000</td>\n",
       "      <td>818.000000</td>\n",
       "      <td>25.000000</td>\n",
       "      <td>5.000000</td>\n",
       "      <td>23376.000000</td>\n",
       "      <td>9.400000</td>\n",
       "      <td>86.000000</td>\n",
       "      <td>10.000000</td>\n",
       "      <td>100.000000</td>\n",
       "    </tr>\n",
       "  </tbody>\n",
       "</table>\n",
       "</div>"
      ],
      "text/plain": [
       "           hotel_id  advertiser_id   n_clickouts    n_bookings         stars  \\\n",
       "count  10292.000000   10292.000000  10292.000000  10292.000000  10274.000000   \n",
       "mean     103.311601      21.663136     13.387583      0.334629      3.377068   \n",
       "std       64.945603      14.530521     41.079112      1.247971      1.221949   \n",
       "min        1.000000       1.000000      1.000000      0.000000      0.000000   \n",
       "25%       42.000000       5.000000      1.000000      0.000000      3.000000   \n",
       "50%       97.000000      24.000000      3.000000      0.000000      4.000000   \n",
       "75%      160.000000      37.000000     11.000000      0.000000      4.000000   \n",
       "max      224.000000      43.000000    818.000000     25.000000      5.000000   \n",
       "\n",
       "          n_reviews        rating       city_id           day     conv_rate  \n",
       "count  10274.000000  10274.000000  10274.000000  10292.000000  10292.000000  \n",
       "mean    4111.072026      7.862575     39.175978      5.497085      2.408461  \n",
       "std     5044.490257      0.982829     21.138440      2.881235      9.789689  \n",
       "min       10.000000      4.100000      1.000000      1.000000      0.000000  \n",
       "25%     1072.000000      7.400000     28.000000      3.000000      0.000000  \n",
       "50%     2146.000000      8.000000     34.000000      5.000000      0.000000  \n",
       "75%     4469.000000      8.500000     51.000000      8.000000      0.000000  \n",
       "max    23376.000000      9.400000     86.000000     10.000000    100.000000  "
      ]
     },
     "execution_count": 14,
     "metadata": {},
     "output_type": "execute_result"
    }
   ],
   "source": [
    "df.describe()"
   ]
  },
  {
   "cell_type": "code",
   "execution_count": 15,
   "id": "372c6262",
   "metadata": {},
   "outputs": [],
   "source": [
    "## Remove the conversation rate of 100% which 1 click rate and 1 booking across the hotels\n",
    "\n",
    "df = df.loc[~(df['conv_rate'] == 100)]"
   ]
  },
  {
   "cell_type": "code",
   "execution_count": null,
   "id": "e79ff82a",
   "metadata": {},
   "outputs": [],
   "source": [
    "#df.describe()"
   ]
  },
  {
   "cell_type": "markdown",
   "id": "9e65f872",
   "metadata": {},
   "source": [
    "### Data Preprocessing: Checking for outliers and duplicates"
   ]
  },
  {
   "cell_type": "code",
   "execution_count": null,
   "id": "c4cdeff5",
   "metadata": {},
   "outputs": [],
   "source": [
    "def z_score_outliers(array,\n",
    "                     z_score_lower,\n",
    "                     z_score_upper):\n",
    "\n",
    "    z_scores = scipy.stats.zscore(array)\n",
    "    outliers = (z_scores > 1.96) | (z_scores < -1.96)\n",
    "    \n",
    "    return array[outliers]"
   ]
  },
  {
   "cell_type": "code",
   "execution_count": null,
   "id": "cc8f1968",
   "metadata": {},
   "outputs": [],
   "source": [
    "#def z_score(df, threshold=1):\n",
    "    #mean, std = np.mean(df), np.std(df)\n",
    "    #z_score = np.abs((df - mean) / std)\n",
    "    #keep = z_score < threshold\n",
    "    #print(f\"z-score of {threshold} corresponds to a prob of {100 * 2 * norm.sf(3):0.2f}%\")\n",
    "    #print(f\"Rejection {(~keep).sum()} points\")\n",
    "    #return keep"
   ]
  },
  {
   "cell_type": "code",
   "execution_count": null,
   "id": "6520c0d8",
   "metadata": {},
   "outputs": [],
   "source": [
    "#z_score(df['n_reviews'], threshold=3).sum()"
   ]
  },
  {
   "cell_type": "code",
   "execution_count": 16,
   "id": "4ccea4fe",
   "metadata": {},
   "outputs": [
    {
     "name": "stdout",
     "output_type": "stream",
     "text": [
      "There is no duplicate value present\n"
     ]
    }
   ],
   "source": [
    "#Check for Duplicate Values\n",
    "if (len(df[df.duplicated()])>0):\n",
    "    print(\"There are Duplicate values present\")\n",
    "else:\n",
    "    print(\"There is no duplicate value present\")"
   ]
  },
  {
   "cell_type": "code",
   "execution_count": null,
   "id": "f2d28fe6",
   "metadata": {},
   "outputs": [],
   "source": [
    "fig, ax = plt.subplots()\n",
    "ax.scatter(x = train['rating'], y = train['conv_rate'])\n",
    "plt.ylabel('Conversion', fontsize=13)\n",
    "plt.xlabel('number of ratings', fontsize=13)\n",
    "plt.show()"
   ]
  },
  {
   "cell_type": "code",
   "execution_count": null,
   "id": "358a0cff",
   "metadata": {},
   "outputs": [],
   "source": [
    "from scipy.stats import norm\n",
    "from scipy import stats\n",
    "sns.distplot(train['conv_rate'] , fit=norm);\n",
    "\n",
    "# Get the fitted parameters used by the function\n",
    "(mu, sigma) = norm.fit(train['conv_rate'])\n",
    "print( '\\n mu = {:.2f} and sigma = {:.2f}\\n'.format(mu, sigma))\n",
    "\n",
    "#Now plot the distribution\n",
    "plt.legend(['Normal dist. ($\\mu=$ {:.2f} and $\\sigma=$ {:.2f} )'.format(mu, sigma)],\n",
    "            loc='best')\n",
    "plt.ylabel('conv_rate')\n",
    "plt.title('Conversion rate distribution')\n",
    "\n",
    "#Get also the QQ-plot\n",
    "fig = plt.figure()\n",
    "res = stats.probplot(train['conv_rate'], plot=plt)\n",
    "plt.show()"
   ]
  },
  {
   "cell_type": "code",
   "execution_count": 17,
   "id": "e1533696",
   "metadata": {},
   "outputs": [
    {
     "data": {
      "text/plain": [
       "<Axes: >"
      ]
     },
     "execution_count": 17,
     "metadata": {},
     "output_type": "execute_result"
    },
    {
     "data": {
      "image/png": "[encoded data removed]",
      "text/plain": [
       "<Figure size 1200x900 with 2 Axes>"
      ]
     },
     "metadata": {},
     "output_type": "display_data"
    }
   ],
   "source": [
    "#Correlation map to see how features are correlated with SalePrice\n",
    "corrmat = df.corr(method =\"kendall\")\n",
    "plt.subplots(figsize=(12,9))\n",
    "sns.heatmap(corrmat, vmax=0.9, square=True)"
   ]
  },
  {
   "cell_type": "code",
   "execution_count": 18,
   "id": "6cc475ff",
   "metadata": {},
   "outputs": [
    {
     "data": {
      "image/png": "[encoded data removed]",
      "text/plain": [
       "<Figure size 1400x600 with 1 Axes>"
      ]
     },
     "metadata": {},
     "output_type": "display_data"
    }
   ],
   "source": [
    "corr_with_conv_rate = df.corr()[\"conv_rate\"].sort_values(ascending=False)\n",
    "plt.figure(figsize=(14,6))\n",
    "corr_with_conv_rate.drop(\"conv_rate\").plot.bar()\n",
    "plt.show();"
   ]
  },
  {
   "cell_type": "code",
   "execution_count": 19,
   "id": "c3486095",
   "metadata": {},
   "outputs": [
    {
     "data": {
      "text/plain": [
       "ymd\n",
       "2023-08-01    1.544824\n",
       "2023-08-02    1.821077\n",
       "2023-08-03    2.133092\n",
       "2023-08-04    1.957418\n",
       "2023-08-05    2.197665\n",
       "2023-08-06    1.847325\n",
       "2023-08-07    1.988551\n",
       "2023-08-08    1.743678\n",
       "2023-08-09    1.619239\n",
       "2023-08-10    1.517074\n",
       "Name: conv_rate, dtype: float64"
      ]
     },
     "execution_count": 19,
     "metadata": {},
     "output_type": "execute_result"
    }
   ],
   "source": [
    "df.groupby('ymd')['conv_rate'].mean()"
   ]
  },
  {
   "cell_type": "code",
   "execution_count": 20,
   "id": "fcc2fe08",
   "metadata": {},
   "outputs": [
    {
     "data": {
      "text/plain": [
       "ymd               0\n",
       "hotel_id          0\n",
       "advertiser_id     0\n",
       "n_clickouts       0\n",
       "n_bookings        0\n",
       "stars            18\n",
       "n_reviews        18\n",
       "rating           18\n",
       "city_id          18\n",
       "day               0\n",
       "conv_rate         0\n",
       "dtype: int64"
      ]
     },
     "execution_count": 20,
     "metadata": {},
     "output_type": "execute_result"
    }
   ],
   "source": [
    "df.isnull().sum()"
   ]
  },
  {
   "cell_type": "code",
   "execution_count": 21,
   "id": "bbd1745c",
   "metadata": {},
   "outputs": [],
   "source": [
    "df.dropna(inplace = True)"
   ]
  },
  {
   "cell_type": "code",
   "execution_count": 22,
   "id": "5063e760",
   "metadata": {},
   "outputs": [
    {
     "data": {
      "text/plain": [
       "<Axes: xlabel='ymd'>"
      ]
     },
     "execution_count": 22,
     "metadata": {},
     "output_type": "execute_result"
    },
    {
     "data": {
      "image/png": "[encoded data removed]",
      "text/plain": [
       "<Figure size 640x480 with 1 Axes>"
      ]
     },
     "metadata": {},
     "output_type": "display_data"
    }
   ],
   "source": [
    "df.groupby(df['ymd']).apply(lambda x: x[\"conv_rate\"].sum()).plot()"
   ]
  },
  {
   "cell_type": "code",
   "execution_count": null,
   "id": "83710d77",
   "metadata": {},
   "outputs": [],
   "source": [
    "#plt.plot('conv_rate')"
   ]
  },
  {
   "cell_type": "code",
   "execution_count": null,
   "id": "e69463c9",
   "metadata": {},
   "outputs": [],
   "source": []
  },
  {
   "cell_type": "code",
   "execution_count": null,
   "id": "8f9c6c83",
   "metadata": {},
   "outputs": [],
   "source": [
    "#df.fillna(0, inplace=True)"
   ]
  },
  {
   "cell_type": "code",
   "execution_count": 23,
   "id": "368dbdc5",
   "metadata": {},
   "outputs": [],
   "source": [
    "predictors = ['day','hotel_id','advertiser_id','stars','n_reviews','rating','city_id']"
   ]
  },
  {
   "cell_type": "code",
   "execution_count": null,
   "id": "b33444af",
   "metadata": {},
   "outputs": [],
   "source": [
    "#from sklearn.preprocessing import MinMaxScaler\n",
    "\n",
    "#scaler = MinMaxScaler()\n",
    "#df[predictors] = scaler.fit_transform(df[predictors])"
   ]
  },
  {
   "cell_type": "code",
   "execution_count": null,
   "id": "7a980d4e",
   "metadata": {},
   "outputs": [],
   "source": []
  },
  {
   "cell_type": "markdown",
   "id": "ea4d83bf",
   "metadata": {},
   "source": [
    "### Create a prediction function"
   ]
  },
  {
   "cell_type": "code",
   "execution_count": 24,
   "id": "6803156f",
   "metadata": {},
   "outputs": [],
   "source": [
    "# create a model - Regressor: the target is a continuous variable\n",
    "rr = Ridge(alpha = 1, random_state = 123)"
   ]
  },
  {
   "cell_type": "code",
   "execution_count": 25,
   "id": "07c72cee",
   "metadata": {},
   "outputs": [],
   "source": [
    "def fit_predict(data, model, predictors, start=2, step=1):\n",
    "    all_predictions = []\n",
    "    \n",
    "    dayz = sorted(data[\"ymd\"].unique())\n",
    "    \n",
    "    for i in range(start, len(dayz), step):\n",
    "        daytime = dayz[i]\n",
    "        train = data[data[\"ymd\"] < daytime]\n",
    "        test = data[data[\"ymd\"] == daytime]\n",
    "        \n",
    "        model.fit(train[predictors], train[\"conv_rate\"])\n",
    "        \n",
    "        preds = model.predict(test[predictors])\n",
    "        preds = pd.Series(preds, index=test.index)\n",
    "        combined = pd.concat([test[\"conv_rate\"], preds], axis=1)\n",
    "        combined.columns = [\"actual\", \"prediction\"]\n",
    "        \n",
    "        all_predictions.append(combined)\n",
    "    return pd.concat(all_predictions)"
   ]
  },
  {
   "cell_type": "markdown",
   "id": "cceebf88",
   "metadata": {},
   "source": [
    "### Model Training & Evaluation"
   ]
  },
  {
   "cell_type": "code",
   "execution_count": 26,
   "id": "1970ca1a",
   "metadata": {},
   "outputs": [],
   "source": [
    "predictions = fit_predict(df, rr, predictors,step = 1)"
   ]
  },
  {
   "cell_type": "code",
   "execution_count": 27,
   "id": "03be50ef",
   "metadata": {},
   "outputs": [],
   "source": [
    "def evaluate_model(true, predicted):\n",
    "    mae = mean_absolute_error(true, predicted)\n",
    "    mse = mean_squared_error(true, predicted)\n",
    "    rmse = np.sqrt(mean_squared_error(true, predicted))\n",
    "    r2_square = r2_score(true, predicted)\n",
    "    return mae, rmse, r2_square"
   ]
  },
  {
   "cell_type": "code",
   "execution_count": 28,
   "id": "b59be294",
   "metadata": {},
   "outputs": [],
   "source": [
    "eval_results = evaluate_model(predictions['actual'], predictions['prediction'])"
   ]
  },
  {
   "cell_type": "code",
   "execution_count": 29,
   "id": "4c116a57",
   "metadata": {},
   "outputs": [
    {
     "name": "stdout",
     "output_type": "stream",
     "text": [
      "(3.3247654369922697, 6.423104421267733, 0.0009961595856842198)\n"
     ]
    }
   ],
   "source": [
    "print(eval_results)"
   ]
  },
  {
   "cell_type": "code",
   "execution_count": 30,
   "id": "a86181d4",
   "metadata": {},
   "outputs": [
    {
     "name": "stdout",
     "output_type": "stream",
     "text": [
      "Test r2 score:  0.0009961595856842198\n",
      "Test RMSE: 6.4231\n"
     ]
    }
   ],
   "source": [
    "print('Test r2 score: ', r2_score(predictions['actual'], predictions['prediction']))\n",
    "test_mse1 = mean_squared_error(predictions['actual'], predictions['prediction'])\n",
    "test_rmse1 = np.sqrt(test_mse1)\n",
    "print('Test RMSE: %.4f' % test_rmse1)"
   ]
  },
  {
   "cell_type": "code",
   "execution_count": 31,
   "id": "4091d2e8",
   "metadata": {},
   "outputs": [
    {
     "data": {
      "text/html": [
       "<div>\n",
       "<style scoped>\n",
       "    .dataframe tbody tr th:only-of-type {\n",
       "        vertical-align: middle;\n",
       "    }\n",
       "\n",
       "    .dataframe tbody tr th {\n",
       "        vertical-align: top;\n",
       "    }\n",
       "\n",
       "    .dataframe thead th {\n",
       "        text-align: right;\n",
       "    }\n",
       "</style>\n",
       "<table border=\"1\" class=\"dataframe\">\n",
       "  <thead>\n",
       "    <tr style=\"text-align: right;\">\n",
       "      <th></th>\n",
       "      <th>actual</th>\n",
       "      <th>prediction</th>\n",
       "    </tr>\n",
       "  </thead>\n",
       "  <tbody>\n",
       "    <tr>\n",
       "      <th>2098</th>\n",
       "      <td>0.000000</td>\n",
       "      <td>2.128476</td>\n",
       "    </tr>\n",
       "    <tr>\n",
       "      <th>2099</th>\n",
       "      <td>6.201550</td>\n",
       "      <td>2.168412</td>\n",
       "    </tr>\n",
       "    <tr>\n",
       "      <th>2100</th>\n",
       "      <td>0.000000</td>\n",
       "      <td>2.198364</td>\n",
       "    </tr>\n",
       "    <tr>\n",
       "      <th>2101</th>\n",
       "      <td>0.000000</td>\n",
       "      <td>2.487903</td>\n",
       "    </tr>\n",
       "    <tr>\n",
       "      <th>2102</th>\n",
       "      <td>0.000000</td>\n",
       "      <td>1.806411</td>\n",
       "    </tr>\n",
       "    <tr>\n",
       "      <th>...</th>\n",
       "      <td>...</td>\n",
       "      <td>...</td>\n",
       "    </tr>\n",
       "    <tr>\n",
       "      <th>10287</th>\n",
       "      <td>0.000000</td>\n",
       "      <td>1.255089</td>\n",
       "    </tr>\n",
       "    <tr>\n",
       "      <th>10288</th>\n",
       "      <td>0.000000</td>\n",
       "      <td>1.273100</td>\n",
       "    </tr>\n",
       "    <tr>\n",
       "      <th>10289</th>\n",
       "      <td>0.000000</td>\n",
       "      <td>1.315125</td>\n",
       "    </tr>\n",
       "    <tr>\n",
       "      <th>10290</th>\n",
       "      <td>0.000000</td>\n",
       "      <td>2.091988</td>\n",
       "    </tr>\n",
       "    <tr>\n",
       "      <th>10291</th>\n",
       "      <td>4.166667</td>\n",
       "      <td>2.164031</td>\n",
       "    </tr>\n",
       "  </tbody>\n",
       "</table>\n",
       "<p>8136 rows × 2 columns</p>\n",
       "</div>"
      ],
      "text/plain": [
       "         actual  prediction\n",
       "2098   0.000000    2.128476\n",
       "2099   6.201550    2.168412\n",
       "2100   0.000000    2.198364\n",
       "2101   0.000000    2.487903\n",
       "2102   0.000000    1.806411\n",
       "...         ...         ...\n",
       "10287  0.000000    1.255089\n",
       "10288  0.000000    1.273100\n",
       "10289  0.000000    1.315125\n",
       "10290  0.000000    2.091988\n",
       "10291  4.166667    2.164031\n",
       "\n",
       "[8136 rows x 2 columns]"
      ]
     },
     "execution_count": 31,
     "metadata": {},
     "output_type": "execute_result"
    }
   ],
   "source": [
    "predictions"
   ]
  },
  {
   "cell_type": "code",
   "execution_count": null,
   "id": "c0a82f78",
   "metadata": {},
   "outputs": [],
   "source": []
  },
  {
   "cell_type": "code",
   "execution_count": null,
   "id": "ae31cf55",
   "metadata": {},
   "outputs": [],
   "source": []
  },
  {
   "cell_type": "code",
   "execution_count": null,
   "id": "b8df0188",
   "metadata": {},
   "outputs": [],
   "source": []
  },
  {
   "cell_type": "markdown",
   "id": "4ef201fa",
   "metadata": {},
   "source": [
    "### Part 1: Predict unseen data - ( August 11) "
   ]
  },
  {
   "cell_type": "code",
   "execution_count": null,
   "id": "3ffea399",
   "metadata": {},
   "outputs": [],
   "source": []
  },
  {
   "cell_type": "code",
   "execution_count": 32,
   "id": "191a0226",
   "metadata": {},
   "outputs": [],
   "source": [
    "#create a copy of the dataframe: df\n",
    "data = df.copy()"
   ]
  },
  {
   "cell_type": "code",
   "execution_count": 33,
   "id": "cb2ec6ad",
   "metadata": {},
   "outputs": [
    {
     "data": {
      "text/html": [
       "<div>\n",
       "<style scoped>\n",
       "    .dataframe tbody tr th:only-of-type {\n",
       "        vertical-align: middle;\n",
       "    }\n",
       "\n",
       "    .dataframe tbody tr th {\n",
       "        vertical-align: top;\n",
       "    }\n",
       "\n",
       "    .dataframe thead th {\n",
       "        text-align: right;\n",
       "    }\n",
       "</style>\n",
       "<table border=\"1\" class=\"dataframe\">\n",
       "  <thead>\n",
       "    <tr style=\"text-align: right;\">\n",
       "      <th></th>\n",
       "      <th>ymd</th>\n",
       "      <th>hotel_id</th>\n",
       "      <th>advertiser_id</th>\n",
       "      <th>n_clickouts</th>\n",
       "      <th>n_bookings</th>\n",
       "      <th>stars</th>\n",
       "      <th>n_reviews</th>\n",
       "      <th>rating</th>\n",
       "      <th>city_id</th>\n",
       "      <th>day</th>\n",
       "      <th>conv_rate</th>\n",
       "    </tr>\n",
       "  </thead>\n",
       "  <tbody>\n",
       "    <tr>\n",
       "      <th>0</th>\n",
       "      <td>2023-08-01</td>\n",
       "      <td>1</td>\n",
       "      <td>1</td>\n",
       "      <td>5</td>\n",
       "      <td>0</td>\n",
       "      <td>3.0</td>\n",
       "      <td>3601.0</td>\n",
       "      <td>6.1</td>\n",
       "      <td>36.0</td>\n",
       "      <td>1</td>\n",
       "      <td>0.000000</td>\n",
       "    </tr>\n",
       "    <tr>\n",
       "      <th>1</th>\n",
       "      <td>2023-08-01</td>\n",
       "      <td>1</td>\n",
       "      <td>5</td>\n",
       "      <td>159</td>\n",
       "      <td>5</td>\n",
       "      <td>3.0</td>\n",
       "      <td>3601.0</td>\n",
       "      <td>6.1</td>\n",
       "      <td>36.0</td>\n",
       "      <td>1</td>\n",
       "      <td>3.144654</td>\n",
       "    </tr>\n",
       "    <tr>\n",
       "      <th>2</th>\n",
       "      <td>2023-08-01</td>\n",
       "      <td>1</td>\n",
       "      <td>14</td>\n",
       "      <td>1</td>\n",
       "      <td>0</td>\n",
       "      <td>3.0</td>\n",
       "      <td>3601.0</td>\n",
       "      <td>6.1</td>\n",
       "      <td>36.0</td>\n",
       "      <td>1</td>\n",
       "      <td>0.000000</td>\n",
       "    </tr>\n",
       "    <tr>\n",
       "      <th>3</th>\n",
       "      <td>2023-08-01</td>\n",
       "      <td>1</td>\n",
       "      <td>37</td>\n",
       "      <td>2</td>\n",
       "      <td>0</td>\n",
       "      <td>3.0</td>\n",
       "      <td>3601.0</td>\n",
       "      <td>6.1</td>\n",
       "      <td>36.0</td>\n",
       "      <td>1</td>\n",
       "      <td>0.000000</td>\n",
       "    </tr>\n",
       "    <tr>\n",
       "      <th>4</th>\n",
       "      <td>2023-08-01</td>\n",
       "      <td>1</td>\n",
       "      <td>39</td>\n",
       "      <td>1</td>\n",
       "      <td>0</td>\n",
       "      <td>3.0</td>\n",
       "      <td>3601.0</td>\n",
       "      <td>6.1</td>\n",
       "      <td>36.0</td>\n",
       "      <td>1</td>\n",
       "      <td>0.000000</td>\n",
       "    </tr>\n",
       "  </tbody>\n",
       "</table>\n",
       "</div>"
      ],
      "text/plain": [
       "         ymd  hotel_id  advertiser_id  n_clickouts  n_bookings  stars  \\\n",
       "0 2023-08-01         1              1            5           0    3.0   \n",
       "1 2023-08-01         1              5          159           5    3.0   \n",
       "2 2023-08-01         1             14            1           0    3.0   \n",
       "3 2023-08-01         1             37            2           0    3.0   \n",
       "4 2023-08-01         1             39            1           0    3.0   \n",
       "\n",
       "   n_reviews  rating  city_id  day  conv_rate  \n",
       "0     3601.0     6.1     36.0    1   0.000000  \n",
       "1     3601.0     6.1     36.0    1   3.144654  \n",
       "2     3601.0     6.1     36.0    1   0.000000  \n",
       "3     3601.0     6.1     36.0    1   0.000000  \n",
       "4     3601.0     6.1     36.0    1   0.000000  "
      ]
     },
     "execution_count": 33,
     "metadata": {},
     "output_type": "execute_result"
    }
   ],
   "source": [
    "data.head()"
   ]
  },
  {
   "cell_type": "code",
   "execution_count": null,
   "id": "0dcf2c6b",
   "metadata": {},
   "outputs": [],
   "source": [
    "#data = data[['day',\"hotel_id\", 'advertiser_id', 'n_clickouts','rating', 'city_id','n_reviews','stars', 'n_bookings', 'conv_rate']]"
   ]
  },
  {
   "cell_type": "code",
   "execution_count": 42,
   "id": "516af60e",
   "metadata": {},
   "outputs": [],
   "source": [
    "data.set_index('ymd', inplace = True)"
   ]
  },
  {
   "cell_type": "code",
   "execution_count": null,
   "id": "d31ed906",
   "metadata": {},
   "outputs": [],
   "source": []
  },
  {
   "cell_type": "markdown",
   "id": "8dcd3606",
   "metadata": {},
   "source": [
    "### Data spliting and Preparation "
   ]
  },
  {
   "cell_type": "code",
   "execution_count": 43,
   "id": "02ab56d2",
   "metadata": {},
   "outputs": [],
   "source": [
    "train = data.loc[:\"20230810\"]\n",
    "test = data.loc[\"20230810\":]"
   ]
  },
  {
   "cell_type": "code",
   "execution_count": 44,
   "id": "bea80c5b",
   "metadata": {},
   "outputs": [
    {
     "data": {
      "text/plain": [
       "1012"
      ]
     },
     "execution_count": 44,
     "metadata": {},
     "output_type": "execute_result"
    }
   ],
   "source": [
    "len(test)"
   ]
  },
  {
   "cell_type": "code",
   "execution_count": 45,
   "id": "a4627b48",
   "metadata": {},
   "outputs": [
    {
     "data": {
      "text/html": [
       "<style>#sk-container-id-2 {color: black;background-color: white;}#sk-container-id-2 pre{padding: 0;}#sk-container-id-2 div.sk-toggleable {background-color: white;}#sk-container-id-2 label.sk-toggleable__label {cursor: pointer;display: block;width: 100%;margin-bottom: 0;padding: 0.3em;box-sizing: border-box;text-align: center;}#sk-container-id-2 label.sk-toggleable__label-arrow:before {content: \"▸\";float: left;margin-right: 0.25em;color: #696969;}#sk-container-id-2 label.sk-toggleable__label-arrow:hover:before {color: black;}#sk-container-id-2 div.sk-estimator:hover label.sk-toggleable__label-arrow:before {color: black;}#sk-container-id-2 div.sk-toggleable__content {max-height: 0;max-width: 0;overflow: hidden;text-align: left;background-color: #f0f8ff;}#sk-container-id-2 div.sk-toggleable__content pre {margin: 0.2em;color: black;border-radius: 0.25em;background-color: #f0f8ff;}#sk-container-id-2 input.sk-toggleable__control:checked~div.sk-toggleable__content {max-height: 200px;max-width: 100%;overflow: auto;}#sk-container-id-2 input.sk-toggleable__control:checked~label.sk-toggleable__label-arrow:before {content: \"▾\";}#sk-container-id-2 div.sk-estimator input.sk-toggleable__control:checked~label.sk-toggleable__label {background-color: #d4ebff;}#sk-container-id-2 div.sk-label input.sk-toggleable__control:checked~label.sk-toggleable__label {background-color: #d4ebff;}#sk-container-id-2 input.sk-hidden--visually {border: 0;clip: rect(1px 1px 1px 1px);clip: rect(1px, 1px, 1px, 1px);height: 1px;margin: -1px;overflow: hidden;padding: 0;position: absolute;width: 1px;}#sk-container-id-2 div.sk-estimator {font-family: monospace;background-color: #f0f8ff;border: 1px dotted black;border-radius: 0.25em;box-sizing: border-box;margin-bottom: 0.5em;}#sk-container-id-2 div.sk-estimator:hover {background-color: #d4ebff;}#sk-container-id-2 div.sk-parallel-item::after {content: \"\";width: 100%;border-bottom: 1px solid gray;flex-grow: 1;}#sk-container-id-2 div.sk-label:hover label.sk-toggleable__label {background-color: #d4ebff;}#sk-container-id-2 div.sk-serial::before {content: \"\";position: absolute;border-left: 1px solid gray;box-sizing: border-box;top: 0;bottom: 0;left: 50%;z-index: 0;}#sk-container-id-2 div.sk-serial {display: flex;flex-direction: column;align-items: center;background-color: white;padding-right: 0.2em;padding-left: 0.2em;position: relative;}#sk-container-id-2 div.sk-item {position: relative;z-index: 1;}#sk-container-id-2 div.sk-parallel {display: flex;align-items: stretch;justify-content: center;background-color: white;position: relative;}#sk-container-id-2 div.sk-item::before, #sk-container-id-2 div.sk-parallel-item::before {content: \"\";position: absolute;border-left: 1px solid gray;box-sizing: border-box;top: 0;bottom: 0;left: 50%;z-index: -1;}#sk-container-id-2 div.sk-parallel-item {display: flex;flex-direction: column;z-index: 1;position: relative;background-color: white;}#sk-container-id-2 div.sk-parallel-item:first-child::after {align-self: flex-end;width: 50%;}#sk-container-id-2 div.sk-parallel-item:last-child::after {align-self: flex-start;width: 50%;}#sk-container-id-2 div.sk-parallel-item:only-child::after {width: 0;}#sk-container-id-2 div.sk-dashed-wrapped {border: 1px dashed gray;margin: 0 0.4em 0.5em 0.4em;box-sizing: border-box;padding-bottom: 0.4em;background-color: white;}#sk-container-id-2 div.sk-label label {font-family: monospace;font-weight: bold;display: inline-block;line-height: 1.2em;}#sk-container-id-2 div.sk-label-container {text-align: center;}#sk-container-id-2 div.sk-container {/* jupyter's `normalize.less` sets `[hidden] { display: none; }` but bootstrap.min.css set `[hidden] { display: none !important; }` so we also need the `!important` here to be able to override the default hidden behavior on the sphinx rendered scikit-learn.org. See: https://github.com/scikit-learn/scikit-learn/issues/21755 */display: inline-block !important;position: relative;}#sk-container-id-2 div.sk-text-repr-fallback {display: none;}</style><div id=\"sk-container-id-2\" class=\"sk-top-container\"><div class=\"sk-text-repr-fallback\"><pre>XGBRegressor(base_score=None, booster=None, callbacks=None,\n",
       "             colsample_bylevel=None, colsample_bynode=None,\n",
       "             colsample_bytree=None, device=None, early_stopping_rounds=None,\n",
       "             enable_categorical=False, eval_metric=None, feature_types=None,\n",
       "             gamma=None, grow_policy=None, importance_type=None,\n",
       "             interaction_constraints=None, learning_rate=None, max_bin=None,\n",
       "             max_cat_threshold=None, max_cat_to_onehot=None,\n",
       "             max_delta_step=None, max_depth=9, max_leaves=None,\n",
       "             min_child_weight=None, missing=nan, monotone_constraints=None,\n",
       "             multi_strategy=None, n_estimators=20, n_jobs=None,\n",
       "             num_parallel_tree=None, random_state=None, ...)</pre><b>In a Jupyter environment, please rerun this cell to show the HTML representation or trust the notebook. <br />On GitHub, the HTML representation is unable to render, please try loading this page with nbviewer.org.</b></div><div class=\"sk-container\" hidden><div class=\"sk-item\"><div class=\"sk-estimator sk-toggleable\"><input class=\"sk-toggleable__control sk-hidden--visually\" id=\"sk-estimator-id-2\" type=\"checkbox\" checked><label for=\"sk-estimator-id-2\" class=\"sk-toggleable__label sk-toggleable__label-arrow\">XGBRegressor</label><div class=\"sk-toggleable__content\"><pre>XGBRegressor(base_score=None, booster=None, callbacks=None,\n",
       "             colsample_bylevel=None, colsample_bynode=None,\n",
       "             colsample_bytree=None, device=None, early_stopping_rounds=None,\n",
       "             enable_categorical=False, eval_metric=None, feature_types=None,\n",
       "             gamma=None, grow_policy=None, importance_type=None,\n",
       "             interaction_constraints=None, learning_rate=None, max_bin=None,\n",
       "             max_cat_threshold=None, max_cat_to_onehot=None,\n",
       "             max_delta_step=None, max_depth=9, max_leaves=None,\n",
       "             min_child_weight=None, missing=nan, monotone_constraints=None,\n",
       "             multi_strategy=None, n_estimators=20, n_jobs=None,\n",
       "             num_parallel_tree=None, random_state=None, ...)</pre></div></div></div></div></div>"
      ],
      "text/plain": [
       "XGBRegressor(base_score=None, booster=None, callbacks=None,\n",
       "             colsample_bylevel=None, colsample_bynode=None,\n",
       "             colsample_bytree=None, device=None, early_stopping_rounds=None,\n",
       "             enable_categorical=False, eval_metric=None, feature_types=None,\n",
       "             gamma=None, grow_policy=None, importance_type=None,\n",
       "             interaction_constraints=None, learning_rate=None, max_bin=None,\n",
       "             max_cat_threshold=None, max_cat_to_onehot=None,\n",
       "             max_delta_step=None, max_depth=9, max_leaves=None,\n",
       "             min_child_weight=None, missing=nan, monotone_constraints=None,\n",
       "             multi_strategy=None, n_estimators=20, n_jobs=None,\n",
       "             num_parallel_tree=None, random_state=None, ...)"
      ]
     },
     "execution_count": 45,
     "metadata": {},
     "output_type": "execute_result"
    }
   ],
   "source": [
    "# Create a XGB regressor model\n",
    "reg = XGBRegressor(n_estimators=20,max_depth=9)\n",
    "\n",
    "# Fit the model on the training data\n",
    "reg.fit(train[predictors], train['conv_rate'])\n"
   ]
  },
  {
   "cell_type": "code",
   "execution_count": 46,
   "id": "f8117af3",
   "metadata": {},
   "outputs": [
    {
     "name": "stdout",
     "output_type": "stream",
     "text": [
      "Mean Absolute Error (MAE): 1.6\n",
      "Mean Squared Error (MSE): 13.09\n",
      "Root Mean Squared Error (RMSE): 3.62\n",
      "R-squared (R2) Score: 0.63\n"
     ]
    }
   ],
   "source": [
    "y_pred = reg.predict(test[predictors])\n",
    "\n",
    "# Evaluate the model\n",
    "mae = mean_absolute_error(test['conv_rate'], y_pred)\n",
    "mse = mean_squared_error(test['conv_rate'], y_pred)\n",
    "rmse = np.sqrt(mse)\n",
    "r2 = r2_score(test['conv_rate'], y_pred)\n",
    "\n",
    "print(\"Mean Absolute Error (MAE):\", round(mae,2))\n",
    "print(\"Mean Squared Error (MSE):\", round(mse,2))\n",
    "print(\"Root Mean Squared Error (RMSE):\", round(rmse,2))\n",
    "print(\"R-squared (R2) Score:\", round(r2,2))\n"
   ]
  },
  {
   "cell_type": "code",
   "execution_count": 47,
   "id": "7c5a3ce0",
   "metadata": {},
   "outputs": [],
   "source": [
    "def eval_2(X_test, y_test, model):\n",
    "    print('Evaluate the model on new data for August 11')\n",
    "    y_pred_test = model.predict(X_test)\n",
    "    print('predicted conversion rates :', y_pred_test)\n",
    "    return y_pred_test"
   ]
  },
  {
   "cell_type": "code",
   "execution_count": 48,
   "id": "bcd2644b",
   "metadata": {},
   "outputs": [
    {
     "name": "stdout",
     "output_type": "stream",
     "text": [
      "Evaluate the model on new data for August 11\n",
      "predicted conversion rates : [-0.06379621  2.4743447   0.07852095 ... -0.58606136 -0.10983487\n",
      "  2.5611284 ]\n"
     ]
    }
   ],
   "source": [
    "evaluated = eval_2(train[predictors], train['conv_rate'], reg)"
   ]
  },
  {
   "cell_type": "code",
   "execution_count": 49,
   "id": "586f8eeb",
   "metadata": {},
   "outputs": [
    {
     "data": {
      "text/plain": [
       "1012"
      ]
     },
     "execution_count": 49,
     "metadata": {},
     "output_type": "execute_result"
    }
   ],
   "source": [
    "len(y_pred)"
   ]
  },
  {
   "cell_type": "markdown",
   "id": "7dba2e76",
   "metadata": {},
   "source": [
    "### Part 2: Predict - ( August 11) conversion rate"
   ]
  },
  {
   "cell_type": "markdown",
   "id": "f63ea6d5",
   "metadata": {},
   "source": [
    "This method predict the target variable h steps ahead, while considering the position and length of the hotel_id with a specific day time.\n",
    "\n",
    "The model is created by passing the value at the step t+h as the target variable ( conv_rate)."
   ]
  },
  {
   "cell_type": "code",
   "execution_count": 50,
   "id": "3530c9b2",
   "metadata": {},
   "outputs": [],
   "source": [
    "df2 = df.copy()"
   ]
  },
  {
   "cell_type": "code",
   "execution_count": 51,
   "id": "913c5f13",
   "metadata": {},
   "outputs": [],
   "source": [
    "df2['ymd']= pd.to_datetime(df2['ymd'])"
   ]
  },
  {
   "cell_type": "code",
   "execution_count": null,
   "id": "c5b1f743",
   "metadata": {},
   "outputs": [],
   "source": [
    "#df2.set_index('ymd', inplace = True)"
   ]
  },
  {
   "cell_type": "code",
   "execution_count": 52,
   "id": "cdbe6710",
   "metadata": {},
   "outputs": [],
   "source": [
    "#train and test split by day of the month\n",
    "\n",
    "train = df2[df2['ymd'] < '2023-08-09']\n",
    "test = df2[df2['ymd'] >= '2023-08-10']"
   ]
  },
  {
   "cell_type": "code",
   "execution_count": 53,
   "id": "63749606",
   "metadata": {},
   "outputs": [
    {
     "data": {
      "text/plain": [
       "1012"
      ]
     },
     "execution_count": 53,
     "metadata": {},
     "output_type": "execute_result"
    }
   ],
   "source": [
    "len(test)"
   ]
  },
  {
   "cell_type": "code",
   "execution_count": null,
   "id": "ef27cc84",
   "metadata": {},
   "outputs": [],
   "source": [
    "# Prediction using Lags"
   ]
  },
  {
   "cell_type": "code",
   "execution_count": 54,
   "id": "75d9bdf3",
   "metadata": {},
   "outputs": [],
   "source": [
    "lag = 1021  \n",
    "p = np.zeros(len(test))\n",
    "for h in range(len(test)):\n",
    "    x = list()\n",
    "    y = list()\n",
    "    for t in range(lag, len(train)-h):\n",
    "        x.append(train['conv_rate'].iloc[t-lag:t].values)\n",
    "        y.append(train['conv_rate'].iloc[t+h])\n",
    "\n",
    "    model = Ridge(alpha =1)\n",
    "    model.fit(x, y)\n",
    "\n",
    "    x_ = train['conv_rate'].iloc[-lag:].values\n",
    "    p[h] = model.predict([x_])"
   ]
  },
  {
   "cell_type": "code",
   "execution_count": 55,
   "id": "63bfccc3",
   "metadata": {},
   "outputs": [
    {
     "name": "stdout",
     "output_type": "stream",
     "text": [
      "[ 4.61663186  3.79287781 -1.25365809 ... -0.79669661  7.94337382\n",
      "  3.11531891]\n"
     ]
    }
   ],
   "source": [
    "print(p)"
   ]
  },
  {
   "cell_type": "code",
   "execution_count": null,
   "id": "8da73930",
   "metadata": {},
   "outputs": [],
   "source": [
    "len(test)"
   ]
  },
  {
   "cell_type": "markdown",
   "id": "0b2dd9a8",
   "metadata": {},
   "source": [
    "### Predictions using AutoregForecaster"
   ]
  },
  {
   "cell_type": "code",
   "execution_count": 56,
   "id": "52b37156",
   "metadata": {},
   "outputs": [],
   "source": [
    "df = df.set_index('ymd')"
   ]
  },
  {
   "cell_type": "code",
   "execution_count": 57,
   "id": "66f836fc",
   "metadata": {},
   "outputs": [],
   "source": [
    "#Split the data into train and test\n",
    "train = df.loc[\"2023-08-01\":]\n",
    "test = df.loc[\"2023-08-10\":]"
   ]
  },
  {
   "cell_type": "code",
   "execution_count": 58,
   "id": "187d96a6",
   "metadata": {},
   "outputs": [
    {
     "data": {
      "text/plain": [
       "(1012, 10)"
      ]
     },
     "execution_count": 58,
     "metadata": {},
     "output_type": "execute_result"
    }
   ],
   "source": [
    "test.shape"
   ]
  },
  {
   "cell_type": "code",
   "execution_count": 59,
   "id": "098effb2",
   "metadata": {},
   "outputs": [],
   "source": [
    "#regressor= LinearRegression()"
   ]
  },
  {
   "cell_type": "code",
   "execution_count": 60,
   "id": "384bd5fa",
   "metadata": {},
   "outputs": [
    {
     "name": "stderr",
     "output_type": "stream",
     "text": [
      "/home/dell54/anaconda3/lib/python3.10/site-packages/skforecast/utils/utils.py:805: UserWarning: `y` has DatetimeIndex index but no frequency. Index is overwritten with a RangeIndex of step 1.\n",
      "  warnings.warn(\n",
      "/home/dell54/anaconda3/lib/python3.10/site-packages/skforecast/utils/utils.py:805: UserWarning: `y` has DatetimeIndex index but no frequency. Index is overwritten with a RangeIndex of step 1.\n",
      "  warnings.warn(\n"
     ]
    }
   ],
   "source": [
    "forecaster = ForecasterAutoreg(\n",
    "                 regressor     = Ridge(random_state=123),\n",
    "                 lags          = len(test),\n",
    "                 #transformer_y = StandardScaler()\n",
    "             )\n",
    "forecaster.fit(y=train['conv_rate'])"
   ]
  },
  {
   "cell_type": "code",
   "execution_count": 61,
   "id": "50ce122b",
   "metadata": {},
   "outputs": [
    {
     "data": {
      "text/plain": [
       "================= \n",
       "ForecasterAutoreg \n",
       "================= \n",
       "Regressor: Ridge(random_state=123) \n",
       "Lags: [   1    2    3 ... 1010 1011 1012] \n",
       "Transformer for y: None \n",
       "Transformer for exog: None \n",
       "Window size: 1012 \n",
       "Weight function included: False \n",
       "Differentiation order: None \n",
       "Exogenous included: False \n",
       "Type of exogenous variable: None \n",
       "Exogenous variables names: None \n",
       "Training range: [0, 10213] \n",
       "Training index type: RangeIndex \n",
       "Training index frequency: 1 \n",
       "Regressor parameters: {'alpha': 1.0, 'copy_X': True, 'fit_intercept': True, 'max_iter': None, 'normalize': 'deprecated', 'positive': False, 'random_state': 123, 'solver': 'auto', 'tol': 0.001} \n",
       "fit_kwargs: {} \n",
       "Creation date: 2023-12-07 09:31:38 \n",
       "Last fit date: 2023-12-07 09:31:38 \n",
       "Skforecast version: 0.11.0 \n",
       "Python version: 3.10.9 \n",
       "Forecaster id: None "
      ]
     },
     "execution_count": 61,
     "metadata": {},
     "output_type": "execute_result"
    }
   ],
   "source": [
    "forecaster"
   ]
  },
  {
   "cell_type": "markdown",
   "id": "7ae8b3ab",
   "metadata": {},
   "source": [
    "## Make predictions using the ForecasterAutoreg"
   ]
  },
  {
   "cell_type": "code",
   "execution_count": 62,
   "id": "811f6ae9",
   "metadata": {},
   "outputs": [
    {
     "name": "stderr",
     "output_type": "stream",
     "text": [
      "/home/dell54/anaconda3/lib/python3.10/site-packages/skforecast/utils/utils.py:867: UserWarning: `last_window` has DatetimeIndex index but no frequency. Index is overwritten with a RangeIndex of step 1.\n",
      "  warnings.warn(\n"
     ]
    },
    {
     "data": {
      "text/plain": [
       "2019    1.839228\n",
       "2020    1.443063\n",
       "2021    1.753975\n",
       "2022    0.805931\n",
       "2023    1.573551\n",
       "Name: pred, dtype: float64"
      ]
     },
     "execution_count": 62,
     "metadata": {},
     "output_type": "execute_result"
    }
   ],
   "source": [
    "steps = 1012\n",
    "predictions = forecaster.predict(steps=steps)\n",
    "predictions.tail(5)"
   ]
  },
  {
   "cell_type": "code",
   "execution_count": 63,
   "id": "12cae7a2",
   "metadata": {},
   "outputs": [
    {
     "data": {
      "text/plain": [
       "1012   -0.232060\n",
       "1013   -1.750124\n",
       "1014    2.578810\n",
       "Name: pred, dtype: float64"
      ]
     },
     "metadata": {},
     "output_type": "display_data"
    }
   ],
   "source": [
    "display(predictions.head(3))"
   ]
  },
  {
   "cell_type": "code",
   "execution_count": 64,
   "id": "243dddc7",
   "metadata": {},
   "outputs": [
    {
     "data": {
      "text/plain": [
       "1012"
      ]
     },
     "execution_count": 64,
     "metadata": {},
     "output_type": "execute_result"
    }
   ],
   "source": [
    "len(predictions)"
   ]
  },
  {
   "cell_type": "code",
   "execution_count": 66,
   "id": "1d64db86",
   "metadata": {},
   "outputs": [
    {
     "data": {
      "text/html": [
       "<div>\n",
       "<style scoped>\n",
       "    .dataframe tbody tr th:only-of-type {\n",
       "        vertical-align: middle;\n",
       "    }\n",
       "\n",
       "    .dataframe tbody tr th {\n",
       "        vertical-align: top;\n",
       "    }\n",
       "\n",
       "    .dataframe thead th {\n",
       "        text-align: right;\n",
       "    }\n",
       "</style>\n",
       "<table border=\"1\" class=\"dataframe\">\n",
       "  <thead>\n",
       "    <tr style=\"text-align: right;\">\n",
       "      <th></th>\n",
       "      <th>hotel_id</th>\n",
       "      <th>advertiser_id</th>\n",
       "      <th>n_clickouts</th>\n",
       "      <th>n_bookings</th>\n",
       "      <th>stars</th>\n",
       "      <th>n_reviews</th>\n",
       "      <th>rating</th>\n",
       "      <th>city_id</th>\n",
       "      <th>day</th>\n",
       "      <th>conv_rate</th>\n",
       "    </tr>\n",
       "    <tr>\n",
       "      <th>ymd</th>\n",
       "      <th></th>\n",
       "      <th></th>\n",
       "      <th></th>\n",
       "      <th></th>\n",
       "      <th></th>\n",
       "      <th></th>\n",
       "      <th></th>\n",
       "      <th></th>\n",
       "      <th></th>\n",
       "      <th></th>\n",
       "    </tr>\n",
       "  </thead>\n",
       "  <tbody>\n",
       "    <tr>\n",
       "      <th>2023-08-10</th>\n",
       "      <td>1</td>\n",
       "      <td>1</td>\n",
       "      <td>1</td>\n",
       "      <td>0</td>\n",
       "      <td>3.0</td>\n",
       "      <td>3601.0</td>\n",
       "      <td>6.1</td>\n",
       "      <td>36.0</td>\n",
       "      <td>10</td>\n",
       "      <td>0.000000</td>\n",
       "    </tr>\n",
       "    <tr>\n",
       "      <th>2023-08-10</th>\n",
       "      <td>1</td>\n",
       "      <td>5</td>\n",
       "      <td>103</td>\n",
       "      <td>4</td>\n",
       "      <td>3.0</td>\n",
       "      <td>3601.0</td>\n",
       "      <td>6.1</td>\n",
       "      <td>36.0</td>\n",
       "      <td>10</td>\n",
       "      <td>3.883495</td>\n",
       "    </tr>\n",
       "    <tr>\n",
       "      <th>2023-08-10</th>\n",
       "      <td>1</td>\n",
       "      <td>37</td>\n",
       "      <td>1</td>\n",
       "      <td>0</td>\n",
       "      <td>3.0</td>\n",
       "      <td>3601.0</td>\n",
       "      <td>6.1</td>\n",
       "      <td>36.0</td>\n",
       "      <td>10</td>\n",
       "      <td>0.000000</td>\n",
       "    </tr>\n",
       "    <tr>\n",
       "      <th>2023-08-10</th>\n",
       "      <td>1</td>\n",
       "      <td>39</td>\n",
       "      <td>1</td>\n",
       "      <td>0</td>\n",
       "      <td>3.0</td>\n",
       "      <td>3601.0</td>\n",
       "      <td>6.1</td>\n",
       "      <td>36.0</td>\n",
       "      <td>10</td>\n",
       "      <td>0.000000</td>\n",
       "    </tr>\n",
       "    <tr>\n",
       "      <th>2023-08-10</th>\n",
       "      <td>2</td>\n",
       "      <td>5</td>\n",
       "      <td>34</td>\n",
       "      <td>0</td>\n",
       "      <td>3.0</td>\n",
       "      <td>1949.0</td>\n",
       "      <td>8.6</td>\n",
       "      <td>36.0</td>\n",
       "      <td>10</td>\n",
       "      <td>0.000000</td>\n",
       "    </tr>\n",
       "  </tbody>\n",
       "</table>\n",
       "</div>"
      ],
      "text/plain": [
       "            hotel_id  advertiser_id  n_clickouts  n_bookings  stars  \\\n",
       "ymd                                                                   \n",
       "2023-08-10         1              1            1           0    3.0   \n",
       "2023-08-10         1              5          103           4    3.0   \n",
       "2023-08-10         1             37            1           0    3.0   \n",
       "2023-08-10         1             39            1           0    3.0   \n",
       "2023-08-10         2              5           34           0    3.0   \n",
       "\n",
       "            n_reviews  rating  city_id  day  conv_rate  \n",
       "ymd                                                     \n",
       "2023-08-10     3601.0     6.1     36.0   10   0.000000  \n",
       "2023-08-10     3601.0     6.1     36.0   10   3.883495  \n",
       "2023-08-10     3601.0     6.1     36.0   10   0.000000  \n",
       "2023-08-10     3601.0     6.1     36.0   10   0.000000  \n",
       "2023-08-10     1949.0     8.6     36.0   10   0.000000  "
      ]
     },
     "execution_count": 66,
     "metadata": {},
     "output_type": "execute_result"
    }
   ],
   "source": [
    "test.head()"
   ]
  },
  {
   "cell_type": "code",
   "execution_count": 67,
   "id": "00f8e30b",
   "metadata": {},
   "outputs": [],
   "source": [
    "test.index = test.index + pd.DateOffset(days=1)"
   ]
  },
  {
   "cell_type": "code",
   "execution_count": 68,
   "id": "7c3a4eee",
   "metadata": {},
   "outputs": [],
   "source": [
    "colss = ['hotel_id','advertiser_id']"
   ]
  },
  {
   "cell_type": "code",
   "execution_count": 69,
   "id": "4238926d",
   "metadata": {},
   "outputs": [],
   "source": [
    "preds_data = test[colss]"
   ]
  },
  {
   "cell_type": "code",
   "execution_count": 70,
   "id": "79e36f75",
   "metadata": {},
   "outputs": [
    {
     "name": "stderr",
     "output_type": "stream",
     "text": [
      "/tmp/ipykernel_43582/624704566.py:1: SettingWithCopyWarning: \n",
      "A value is trying to be set on a copy of a slice from a DataFrame.\n",
      "Try using .loc[row_indexer,col_indexer] = value instead\n",
      "\n",
      "See the caveats in the documentation: https://pandas.pydata.org/pandas-docs/stable/user_guide/indexing.html#returning-a-view-versus-a-copy\n",
      "  preds_data['pred'] = np.array(predictions)\n"
     ]
    }
   ],
   "source": [
    "preds_data['pred'] = np.array(predictions)"
   ]
  },
  {
   "cell_type": "code",
   "execution_count": 71,
   "id": "f139d116",
   "metadata": {},
   "outputs": [
    {
     "name": "stderr",
     "output_type": "stream",
     "text": [
      "/tmp/ipykernel_43582/3142758834.py:1: SettingWithCopyWarning: \n",
      "A value is trying to be set on a copy of a slice from a DataFrame.\n",
      "Try using .loc[row_indexer,col_indexer] = value instead\n",
      "\n",
      "See the caveats in the documentation: https://pandas.pydata.org/pandas-docs/stable/user_guide/indexing.html#returning-a-view-versus-a-copy\n",
      "  preds_data['y_pred'] = np.array(y_pred) # predictions from Ridge model\n",
      "/tmp/ipykernel_43582/3142758834.py:2: SettingWithCopyWarning: \n",
      "A value is trying to be set on a copy of a slice from a DataFrame.\n",
      "Try using .loc[row_indexer,col_indexer] = value instead\n",
      "\n",
      "See the caveats in the documentation: https://pandas.pydata.org/pandas-docs/stable/user_guide/indexing.html#returning-a-view-versus-a-copy\n",
      "  preds_data['pred'] = np.array(predictions) # predictions from AutoregForecast\n",
      "/tmp/ipykernel_43582/3142758834.py:3: SettingWithCopyWarning: \n",
      "A value is trying to be set on a copy of a slice from a DataFrame.\n",
      "Try using .loc[row_indexer,col_indexer] = value instead\n",
      "\n",
      "See the caveats in the documentation: https://pandas.pydata.org/pandas-docs/stable/user_guide/indexing.html#returning-a-view-versus-a-copy\n",
      "  preds_data['p'] = np.array(p) # direct prediction\n"
     ]
    }
   ],
   "source": [
    "preds_data['y_pred'] = np.array(y_pred) # predictions from Ridge model\n",
    "preds_data['pred'] = np.array(predictions) # predictions from AutoregForecast\n",
    "preds_data['p'] = np.array(p) # direct prediction"
   ]
  },
  {
   "cell_type": "code",
   "execution_count": 72,
   "id": "74d86834",
   "metadata": {},
   "outputs": [
    {
     "data": {
      "text/html": [
       "<div>\n",
       "<style scoped>\n",
       "    .dataframe tbody tr th:only-of-type {\n",
       "        vertical-align: middle;\n",
       "    }\n",
       "\n",
       "    .dataframe tbody tr th {\n",
       "        vertical-align: top;\n",
       "    }\n",
       "\n",
       "    .dataframe thead th {\n",
       "        text-align: right;\n",
       "    }\n",
       "</style>\n",
       "<table border=\"1\" class=\"dataframe\">\n",
       "  <thead>\n",
       "    <tr style=\"text-align: right;\">\n",
       "      <th></th>\n",
       "      <th>hotel_id</th>\n",
       "      <th>advertiser_id</th>\n",
       "      <th>pred</th>\n",
       "      <th>y_pred</th>\n",
       "      <th>p</th>\n",
       "    </tr>\n",
       "    <tr>\n",
       "      <th>ymd</th>\n",
       "      <th></th>\n",
       "      <th></th>\n",
       "      <th></th>\n",
       "      <th></th>\n",
       "      <th></th>\n",
       "    </tr>\n",
       "  </thead>\n",
       "  <tbody>\n",
       "    <tr>\n",
       "      <th>2023-08-11</th>\n",
       "      <td>1</td>\n",
       "      <td>1</td>\n",
       "      <td>-0.232060</td>\n",
       "      <td>0.236026</td>\n",
       "      <td>4.616632</td>\n",
       "    </tr>\n",
       "    <tr>\n",
       "      <th>2023-08-11</th>\n",
       "      <td>1</td>\n",
       "      <td>5</td>\n",
       "      <td>-1.750124</td>\n",
       "      <td>3.318741</td>\n",
       "      <td>3.792878</td>\n",
       "    </tr>\n",
       "    <tr>\n",
       "      <th>2023-08-11</th>\n",
       "      <td>1</td>\n",
       "      <td>37</td>\n",
       "      <td>2.578810</td>\n",
       "      <td>0.455084</td>\n",
       "      <td>-1.253658</td>\n",
       "    </tr>\n",
       "    <tr>\n",
       "      <th>2023-08-11</th>\n",
       "      <td>1</td>\n",
       "      <td>39</td>\n",
       "      <td>0.117882</td>\n",
       "      <td>0.266971</td>\n",
       "      <td>4.855415</td>\n",
       "    </tr>\n",
       "    <tr>\n",
       "      <th>2023-08-11</th>\n",
       "      <td>2</td>\n",
       "      <td>5</td>\n",
       "      <td>4.459314</td>\n",
       "      <td>1.636085</td>\n",
       "      <td>0.066281</td>\n",
       "    </tr>\n",
       "  </tbody>\n",
       "</table>\n",
       "</div>"
      ],
      "text/plain": [
       "            hotel_id  advertiser_id      pred    y_pred         p\n",
       "ymd                                                              \n",
       "2023-08-11         1              1 -0.232060  0.236026  4.616632\n",
       "2023-08-11         1              5 -1.750124  3.318741  3.792878\n",
       "2023-08-11         1             37  2.578810  0.455084 -1.253658\n",
       "2023-08-11         1             39  0.117882  0.266971  4.855415\n",
       "2023-08-11         2              5  4.459314  1.636085  0.066281"
      ]
     },
     "execution_count": 72,
     "metadata": {},
     "output_type": "execute_result"
    }
   ],
   "source": [
    "preds_data.head()"
   ]
  },
  {
   "cell_type": "code",
   "execution_count": 74,
   "id": "85e69e64",
   "metadata": {},
   "outputs": [],
   "source": [
    "pre_group = preds_data.groupby(['advertiser_id', 'hotel_id'])['pred'].mean()"
   ]
  },
  {
   "cell_type": "code",
   "execution_count": 75,
   "id": "127d9e96",
   "metadata": {},
   "outputs": [
    {
     "data": {
      "text/plain": [
       "advertiser_id  hotel_id\n",
       "1              1          -0.232060\n",
       "               4           1.867089\n",
       "               5          -0.987380\n",
       "               7           2.827328\n",
       "               8           0.231170\n",
       "                             ...   \n",
       "41             194         1.597958\n",
       "               200         3.056939\n",
       "               207         4.217528\n",
       "               215         1.759309\n",
       "43             141         0.560117\n",
       "Name: pred, Length: 1012, dtype: float64"
      ]
     },
     "execution_count": 75,
     "metadata": {},
     "output_type": "execute_result"
    }
   ],
   "source": [
    "pre_group"
   ]
  },
  {
   "cell_type": "code",
   "execution_count": 76,
   "id": "a9e7eba3",
   "metadata": {},
   "outputs": [],
   "source": [
    "pre_group.to_csv('conversion_rate_predictions_SegunB.csv')"
   ]
  }
 ],
 "metadata": {
  "kernelspec": {
   "display_name": "Python 3 (ipykernel)",
   "language": "python",
   "name": "python3"
  },
  "language_info": {
   "codemirror_mode": {
    "name": "ipython",
    "version": 3
   },
   "file_extension": ".py",
   "mimetype": "text/x-python",
   "name": "python",
   "nbconvert_exporter": "python",
   "pygments_lexer": "ipython3",
   "version": "3.10.9"
  }
 },
 "nbformat": 4,
 "nbformat_minor": 5
}
